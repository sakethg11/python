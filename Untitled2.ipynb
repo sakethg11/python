{
  "nbformat": 4,
  "nbformat_minor": 0,
  "metadata": {
    "colab": {
      "name": "Untitled2.ipynb",
      "provenance": [],
      "collapsed_sections": [],
      "authorship_tag": "ABX9TyNyIsh75jfJDcjYCbyXogia",
      "include_colab_link": true
    },
    "kernelspec": {
      "name": "python3",
      "display_name": "Python 3"
    },
    "language_info": {
      "name": "python"
    }
  },
  "cells": [
    {
      "cell_type": "markdown",
      "metadata": {
        "id": "view-in-github",
        "colab_type": "text"
      },
      "source": [
        "<a href=\"https://colab.research.google.com/github/sakethg11/python/blob/main/Untitled2.ipynb\" target=\"_parent\"><img src=\"https://colab.research.google.com/assets/colab-badge.svg\" alt=\"Open In Colab\"/></a>"
      ]
    },
    {
      "cell_type": "code",
      "execution_count": null,
      "metadata": {
        "id": "hyJL3mpanIiH"
      },
      "outputs": [],
      "source": [
        "a=str(input())\n",
        "b=int(input())\n",
        "\n",
        "c=int(input())\n",
        "if a == '+':\n",
        "    print(b+c)\n",
        "elif a == '-':\n",
        "    print(b-c)\n",
        "elif a == '/':\n",
        "    print(b/c)\n",
        "elif a == '*':\n",
        "    print(b*c)\n",
        "else:\n",
        "    print(\"give only +,-,%,*\")"
      ]
    },
    {
      "cell_type": "code",
      "source": [
        "import math\n",
        "a=10.1528\n",
        "print(math.ceil(a))\n",
        "print(math.floor(a))\n",
        "print(math.fabs(a))\n",
        "print(math.fmod(20,4))\n",
        "print(math.trunc(2.77))\n",
        "print(math.pow(9,3))\n",
        "print(math.sqrt(9))\n"
      ],
      "metadata": {
        "id": "B3EeN1u9n7Y6"
      },
      "execution_count": null,
      "outputs": []
    },
    {
      "cell_type": "code",
      "source": [
        "a=int(input(\"\"))\n",
        "b=int(input(\"\"))\n",
        "c=int(input(\"\"))\n",
        "d=int(input(\"\"))\n",
        "e=int(input(\"\"))\n",
        "avg=a+b+c+d+e/5\n",
        "if a>=90:\n",
        "      print(\"A\")\n",
        "elif a>=80:\n",
        "    print(\"B\")\n",
        "elif a>=70:\n",
        "    print(\"C\")\n",
        "elif a>=60:\n",
        "    print(\"D\")\n",
        "else:\n",
        "    print(\"E\")\n",
        "if b>=90:\n",
        "      print(\"A\")\n",
        "elif b>=80:\n",
        "    print(\"B\")\n",
        "elif b>=70:\n",
        "    print(\"C\")\n",
        "elif b>=60:\n",
        "    print(\"D\")\n",
        "else:\n",
        "   print(\"E\")\n",
        "if c>=90:\n",
        "      print(\"A\")\n",
        "elif c>=80:\n",
        "    print(\"B\")\n",
        "elif c>=70:\n",
        "    print(\"C\")\n",
        "elif c>=60:\n",
        "    print(\"D\")\n",
        "else:\n",
        "    print(\"E\")\n",
        "if d>=90:\n",
        "      print(\"A\")\n",
        "elif d>=80:\n",
        "    print(\"B\")\n",
        "elif d>=70:\n",
        "    print(\"C\")\n",
        "elif d>=60:\n",
        "    print(\"D\")\n",
        "else:\n",
        "    print(\"E\")\n",
        "if e>=90:\n",
        "      print(\"A\")\n",
        "elif e>=80:\n",
        "    print(\"B\")\n",
        "elif e>=70:\n",
        "    print(\"C\")\n",
        "elif e>=60:\n",
        "    print(\"D\")\n",
        "else:\n",
        "    print(\"E\")"
      ],
      "metadata": {
        "id": "QEjkjFlyn-0R"
      },
      "execution_count": null,
      "outputs": []
    },
    {
      "cell_type": "code",
      "source": [
        "n= 6\n",
        "minutes=n*60;\n",
        "seconds=n*3600;\n",
        "print(\"minutes=\",minutes \\\n",
        "      ,\",seconds=\",seconds)"
      ],
      "metadata": {
        "id": "-fqP2-sCoBrB"
      },
      "execution_count": null,
      "outputs": []
    },
    {
      "cell_type": "code",
      "source": [
        "a=10\n",
        "b=20.2\n",
        "c=a+b\n",
        "print(c)\n",
        "print(a-b)\n",
        "print(a*b)\n",
        "print(a%b)"
      ],
      "metadata": {
        "id": "EbEbqRIZoEEZ"
      },
      "execution_count": null,
      "outputs": []
    },
    {
      "cell_type": "code",
      "source": [
        "a=\"my age is {}\"\n",
        "age=18\n",
        "print(a.format(age))"
      ],
      "metadata": {
        "id": "IRQiP0inoF2y"
      },
      "execution_count": null,
      "outputs": []
    },
    {
      "cell_type": "code",
      "source": [
        "a=input()\n",
        "print(a)\n"
      ],
      "metadata": {
        "id": "R47NOgXpoIvJ"
      },
      "execution_count": null,
      "outputs": []
    }
  ]
}