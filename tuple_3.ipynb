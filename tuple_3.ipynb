{
  "nbformat": 4,
  "nbformat_minor": 0,
  "metadata": {
    "colab": {
      "name": "tuple 3",
      "provenance": [],
      "collapsed_sections": [],
      "authorship_tag": "ABX9TyMmONUpytgHEozzYdm4rj2c",
      "include_colab_link": true
    },
    "kernelspec": {
      "name": "python3",
      "display_name": "Python 3"
    },
    "language_info": {
      "name": "python"
    }
  },
  "cells": [
    {
      "cell_type": "markdown",
      "metadata": {
        "id": "view-in-github",
        "colab_type": "text"
      },
      "source": [
        "<a href=\"https://colab.research.google.com/github/sakethg11/python/blob/main/tuple_3.ipynb\" target=\"_parent\"><img src=\"https://colab.research.google.com/assets/colab-badge.svg\" alt=\"Open In Colab\"/></a>"
      ]
    },
    {
      "cell_type": "code",
      "execution_count": 2,
      "metadata": {
        "colab": {
          "base_uri": "https://localhost:8080/"
        },
        "id": "AGSppmxNpDvP",
        "outputId": "3d13124d-1d7e-446c-f2d5-8f6b61af73b9"
      },
      "outputs": [
        {
          "output_type": "stream",
          "name": "stdout",
          "text": [
            "('apple', 'cherry', 'orange')\n"
          ]
        }
      ],
      "source": [
        "fruits=('apple','banana','orange')\n",
        "a=list(fruits)\n",
        "a[1]='cherry'\n",
        "fruits=tuple(a)\n",
        "print(fruits)"
      ]
    },
    {
      "cell_type": "code",
      "source": [
        "fruits=('bread','jam','butter')\n",
        "fruit='knife','spoon'\n",
        "fruits+=fruit\n",
        "print(fruits)"
      ],
      "metadata": {
        "colab": {
          "base_uri": "https://localhost:8080/"
        },
        "id": "SbnczJsUpyF2",
        "outputId": "5f8e4b95-e5b5-40b5-d1f7-9bc0e9b873ba"
      },
      "execution_count": 3,
      "outputs": [
        {
          "output_type": "stream",
          "name": "stdout",
          "text": [
            "('bread', 'jam', 'butter', 'knife', 'spoon')\n"
          ]
        }
      ]
    },
    {
      "cell_type": "code",
      "source": [
        "vehicles=('truck','van','bus')\n",
        "vehicle=list(vehicles)\n",
        "vehicle.append('bike')\n",
        "vehicles=tuple(vehicle)\n",
        "print(vehicles)"
      ],
      "metadata": {
        "colab": {
          "base_uri": "https://localhost:8080/"
        },
        "id": "SCP7bmphqWhG",
        "outputId": "c3f7115d-adcd-4ae9-a104-ec1677287f72"
      },
      "execution_count": 6,
      "outputs": [
        {
          "output_type": "stream",
          "name": "stdout",
          "text": [
            "('truck', 'van', 'bus', 'bike')\n"
          ]
        }
      ]
    },
    {
      "cell_type": "code",
      "source": [
        "tuple1=('car','bike','truck')\n",
        "tuple2=('apple','banana','orange')\n",
        "tuple3=tuple1+tuple2\n",
        "print(tuple3)"
      ],
      "metadata": {
        "colab": {
          "base_uri": "https://localhost:8080/"
        },
        "id": "3xfDB-06rFy5",
        "outputId": "b62bdd71-f23d-49a3-b80f-f597993b1734"
      },
      "execution_count": 7,
      "outputs": [
        {
          "output_type": "stream",
          "name": "stdout",
          "text": [
            "('car', 'bike', 'truck', 'apple', 'banana', 'orange')\n"
          ]
        }
      ]
    },
    {
      "cell_type": "code",
      "source": [
        "kfc=('burger','bucket','fries')\n",
        "for i in kfc:\n",
        "  print(i)"
      ],
      "metadata": {
        "colab": {
          "base_uri": "https://localhost:8080/"
        },
        "id": "wBZ7Pysora7v",
        "outputId": "c6c7020b-022e-4ddd-d457-d79e991d51dc"
      },
      "execution_count": 8,
      "outputs": [
        {
          "output_type": "stream",
          "name": "stdout",
          "text": [
            "burger\n",
            "bucket\n",
            "fries\n"
          ]
        }
      ]
    },
    {
      "cell_type": "code",
      "source": [
        "kfc=('burger','bucket','fries')\n",
        "x=0\n",
        "while x<len(kfc):\n",
        " print(kfc[x])\n",
        " x=x+1"
      ],
      "metadata": {
        "colab": {
          "base_uri": "https://localhost:8080/"
        },
        "id": "RBX6Hn6Ir5cF",
        "outputId": "630020ce-aa0f-4396-a689-6516f2329f4d"
      },
      "execution_count": 18,
      "outputs": [
        {
          "output_type": "stream",
          "name": "stdout",
          "text": [
            "burger\n",
            "bucket\n",
            "fries\n"
          ]
        }
      ]
    },
    {
      "cell_type": "code",
      "source": [
        "kfc=('burger','bucket','fries')\n",
        "for i in range(len(kfc)):\n",
        "   print(kfc[i])"
      ],
      "metadata": {
        "colab": {
          "base_uri": "https://localhost:8080/"
        },
        "id": "mwGXu3MstEhn",
        "outputId": "2f2dd354-e113-48a4-e03b-b525bc1f02b2"
      },
      "execution_count": 20,
      "outputs": [
        {
          "output_type": "stream",
          "name": "stdout",
          "text": [
            "burger\n",
            "bucket\n",
            "fries\n"
          ]
        }
      ]
    },
    {
      "cell_type": "code",
      "source": [
        "numbers=(1,2,3)\n",
        "numbers2=(4,5,6)\n",
        "number3=number1+number2\n",
        "print(number3)"
      ],
      "metadata": {
        "colab": {
          "base_uri": "https://localhost:8080/",
          "height": 217
        },
        "id": "Mzjx6IZVtZWp",
        "outputId": "035c187d-b217-43bc-f09e-56da4d0e6248"
      },
      "execution_count": 23,
      "outputs": [
        {
          "output_type": "error",
          "ename": "NameError",
          "evalue": "ignored",
          "traceback": [
            "\u001b[0;31m---------------------------------------------------------------------------\u001b[0m",
            "\u001b[0;31mNameError\u001b[0m                                 Traceback (most recent call last)",
            "\u001b[0;32m<ipython-input-23-c2272bbbb52b>\u001b[0m in \u001b[0;36m<module>\u001b[0;34m()\u001b[0m\n\u001b[1;32m      1\u001b[0m \u001b[0mnumbers\u001b[0m\u001b[0;34m=\u001b[0m\u001b[0;34m(\u001b[0m\u001b[0;36m1\u001b[0m\u001b[0;34m,\u001b[0m\u001b[0;36m2\u001b[0m\u001b[0;34m,\u001b[0m\u001b[0;36m3\u001b[0m\u001b[0;34m)\u001b[0m\u001b[0;34m\u001b[0m\u001b[0;34m\u001b[0m\u001b[0m\n\u001b[1;32m      2\u001b[0m \u001b[0mnumbers2\u001b[0m\u001b[0;34m=\u001b[0m\u001b[0;34m(\u001b[0m\u001b[0;36m4\u001b[0m\u001b[0;34m,\u001b[0m\u001b[0;36m5\u001b[0m\u001b[0;34m,\u001b[0m\u001b[0;36m6\u001b[0m\u001b[0;34m)\u001b[0m\u001b[0;34m\u001b[0m\u001b[0;34m\u001b[0m\u001b[0m\n\u001b[0;32m----> 3\u001b[0;31m \u001b[0mnumber3\u001b[0m\u001b[0;34m=\u001b[0m\u001b[0mnumber1\u001b[0m\u001b[0;34m+\u001b[0m\u001b[0mnumber2\u001b[0m\u001b[0;34m\u001b[0m\u001b[0;34m\u001b[0m\u001b[0m\n\u001b[0m\u001b[1;32m      4\u001b[0m \u001b[0mprint\u001b[0m\u001b[0;34m(\u001b[0m\u001b[0mnumber3\u001b[0m\u001b[0;34m)\u001b[0m\u001b[0;34m\u001b[0m\u001b[0;34m\u001b[0m\u001b[0m\n",
            "\u001b[0;31mNameError\u001b[0m: name 'number1' is not defined"
          ]
        }
      ]
    }
  ]
}