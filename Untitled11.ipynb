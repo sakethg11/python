{
  "nbformat": 4,
  "nbformat_minor": 0,
  "metadata": {
    "colab": {
      "name": "Untitled11.ipynb",
      "provenance": [],
      "authorship_tag": "ABX9TyObaqSHpigoR3Z8N74M7F0P",
      "include_colab_link": true
    },
    "kernelspec": {
      "name": "python3",
      "display_name": "Python 3"
    },
    "language_info": {
      "name": "python"
    }
  },
  "cells": [
    {
      "cell_type": "markdown",
      "metadata": {
        "id": "view-in-github",
        "colab_type": "text"
      },
      "source": [
        "<a href=\"https://colab.research.google.com/github/sakethg11/python/blob/main/Untitled11.ipynb\" target=\"_parent\"><img src=\"https://colab.research.google.com/assets/colab-badge.svg\" alt=\"Open In Colab\"/></a>"
      ]
    },
    {
      "cell_type": "code",
      "execution_count": 9,
      "metadata": {
        "colab": {
          "base_uri": "https://localhost:8080/"
        },
        "id": "zmYfvuMQrRQ3",
        "outputId": "336a481f-6565-45fb-c200-5147d82ad414"
      },
      "outputs": [
        {
          "output_type": "stream",
          "name": "stdout",
          "text": [
            "enter my sentancei am saketh\n",
            "I Am Saketh\n"
          ]
        }
      ],
      "source": [
        "def first_word_capital(x):\n",
        "  x=x.title()\n",
        "  print(x)\n",
        "\n",
        "x=str(input('enter my sentance'))\n",
        "first_word_capital(x)"
      ]
    },
    {
      "cell_type": "code",
      "source": [
        "a=str(input())\n",
        "b=a.split(\" \")\n",
        "z=\" \"\n",
        "for i in b:\n",
        "  x=i.capitalize()\n",
        "  y=i[-1].capitalize()\n",
        "  z=x[0:-1]+y\n",
        "  print(z,end=\" \")"
      ],
      "metadata": {
        "colab": {
          "base_uri": "https://localhost:8080/"
        },
        "id": "i8QVCS7GtyGu",
        "outputId": "dcb06fea-d3ff-4cec-e43f-78f85f4b6c9b"
      },
      "execution_count": 14,
      "outputs": [
        {
          "output_type": "stream",
          "name": "stdout",
          "text": [
            "kh her hr\n",
            "KH HeR HR "
          ]
        }
      ]
    }
  ]
}