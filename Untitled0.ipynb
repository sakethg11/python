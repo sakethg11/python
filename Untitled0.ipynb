{
  "nbformat": 4,
  "nbformat_minor": 0,
  "metadata": {
    "colab": {
      "name": "Untitled0.ipynb",
      "provenance": [],
      "authorship_tag": "ABX9TyMkTUsb0IUb0ptFBbNWnBeQ",
      "include_colab_link": true
    },
    "kernelspec": {
      "name": "python3",
      "display_name": "Python 3"
    },
    "language_info": {
      "name": "python"
    }
  },
  "cells": [
    {
      "cell_type": "markdown",
      "metadata": {
        "id": "view-in-github",
        "colab_type": "text"
      },
      "source": [
        "<a href=\"https://colab.research.google.com/github/sakethg11/python/blob/main/Untitled0.ipynb\" target=\"_parent\"><img src=\"https://colab.research.google.com/assets/colab-badge.svg\" alt=\"Open In Colab\"/></a>"
      ]
    },
    {
      "cell_type": "code",
      "execution_count": null,
      "metadata": {
        "colab": {
          "base_uri": "https://localhost:8080/"
        },
        "id": "7BHiKxDGPx4A",
        "outputId": "2183eb29-4931-4eed-d3d0-166d9a6e0594"
      },
      "outputs": [
        {
          "output_type": "stream",
          "name": "stdout",
          "text": [
            "eligible\n"
          ]
        }
      ],
      "source": [
        "a=20\n",
        "if a>18:\n",
        "       print(\"eligible\")\n",
        "else:\n",
        "       print(\"not eligible\")"
      ]
    },
    {
      "cell_type": "code",
      "source": [
        "#max of 3 numbers\n",
        "a=int(input(\"\"))\n",
        "b=int(input(\"\"))\n",
        "c=int(input(\"\"))\n",
        "if a>b:\n",
        "  if a>c:\n",
        "        print(a)\n",
        "  else:\n",
        "        print(c)\n",
        "  if b>a:\n",
        "    if b>c:\n",
        "        print(b)\n",
        "  else:\n",
        "        print(c)"
      ],
      "metadata": {
        "colab": {
          "base_uri": "https://localhost:8080/"
        },
        "id": "xTSELPd2RoZE",
        "outputId": "ec89a950-7dd3-4b73-de39-ba173cb6a29b"
      },
      "execution_count": null,
      "outputs": [
        {
          "name": "stdout",
          "output_type": "stream",
          "text": [
            "20\n",
            "30\n",
            "40\n"
          ]
        }
      ]
    },
    {
      "cell_type": "code",
      "source": [
        "#give 5 subject marks and find out the greatest among them\n",
        "a=int(input(\"\"))\n",
        "b=int(input(\"\"))\n",
        "c=int(input(\"\"))\n",
        "d=int(input(\"\"))\n",
        "e=int(input(\"\"))\n",
        "if a>b and a>c and a>d and a>e:\n",
        "                               print(a)\n",
        "elif b>a and b>c and b>d and b>e:\n",
        "                                 print(b)\n",
        "elif c>a and c>b and c>d and c>e:\n",
        "                                 print(c)\n",
        "elif d>a and d>b and d>c and d>e:\n",
        "                                 print(d)\n",
        "else:\n",
        "     print(e)"
      ],
      "metadata": {
        "colab": {
          "base_uri": "https://localhost:8080/"
        },
        "id": "b5dVbhibTY0k",
        "outputId": "5ea1705e-4ced-45dd-fa0b-8bb8941386ce"
      },
      "execution_count": null,
      "outputs": [
        {
          "output_type": "stream",
          "name": "stdout",
          "text": [
            "80\n",
            "90\n",
            "78\n",
            "70\n",
            "100\n",
            "100\n"
          ]
        }
      ]
    },
    {
      "cell_type": "code",
      "source": [
        "# check wether the triangle is equilateral,isosceles or scalar triangle\n",
        "a=int(input())\n",
        "b=int(input())\n",
        "c=int(input())\n",
        "if a==b==c:\n",
        "           print(\"equilateral\")\n",
        "elif a!=b and b!=c and c!=a:\n",
        "                            print(\"isosceles\")\n",
        "else:\n",
        "            print(\"scalar\")"
      ],
      "metadata": {
        "colab": {
          "base_uri": "https://localhost:8080/"
        },
        "id": "g1eV_ZRtWfVK",
        "outputId": "6bb7e8ff-b064-4695-8c64-122ecfff1749"
      },
      "execution_count": null,
      "outputs": [
        {
          "output_type": "stream",
          "name": "stdout",
          "text": [
            "30\n",
            "20\n",
            "30\n",
            "scalar\n"
          ]
        }
      ]
    },
    {
      "cell_type": "code",
      "source": [
        "#print leap year or not\n",
        "year=int(input(\"enter the year\"))\n",
        "if year%4==0 and year %100!=0:\n",
        "      print(year, \"is a leap year\")\n",
        "elif year%400==0:\n",
        "      print(year,\"is a leap year\")\n",
        "elif year%100==0:\n",
        "      print(year,\"is not a leap year\")\n",
        "else:\n",
        "      print(year,\"is not a leap year\")      "
      ],
      "metadata": {
        "colab": {
          "base_uri": "https://localhost:8080/"
        },
        "id": "98I395IMYvOa",
        "outputId": "d5ebb66d-de38-4a9e-9b61-ed3601dbae4f"
      },
      "execution_count": null,
      "outputs": [
        {
          "output_type": "stream",
          "name": "stdout",
          "text": [
            "enter the year2022\n",
            "2022 is not a leap year\n"
          ]
        }
      ]
    },
    {
      "cell_type": "code",
      "source": [
        "#check wether a number is divisble by 5 and 11 or not\n",
        "number=int(input(\"enter a number\"))\n",
        "if ((number %5==0)) and ((number %11==0)):\n",
        "    print(\"enterder number \"\" is divisible by 5 and 11\".format(number))\n",
        "else:\n",
        "     print(\"entered number \"\" is not divisble by 5 and 11\".format(number))\n",
        "\n"
      ],
      "metadata": {
        "colab": {
          "base_uri": "https://localhost:8080/"
        },
        "id": "ZkKbSRUqbTcT",
        "outputId": "7bb07f58-09b4-4deb-fb52-35c1005929d3"
      },
      "execution_count": null,
      "outputs": [
        {
          "output_type": "stream",
          "name": "stdout",
          "text": [
            "enter a number55\n",
            "enterder number  is divisible by 5 and 11\n"
          ]
        }
      ]
    },
    {
      "cell_type": "code",
      "source": [
        ""
      ],
      "metadata": {
        "id": "PY2N99WfdNAC"
      },
      "execution_count": null,
      "outputs": []
    }
  ]
}